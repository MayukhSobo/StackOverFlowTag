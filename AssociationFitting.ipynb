{
 "cells": [
  {
   "cell_type": "code",
   "execution_count": 25,
   "metadata": {},
   "outputs": [],
   "source": [
    "import pandas as pd\n",
    "import numpy as np\n",
    "from nltk.tokenize import word_tokenize\n",
    "from nltk.corpus import stopwords\n",
    "from nltk.stem import SnowballStemmer\n",
    "import string\n",
    "import warnings\n",
    "import sqlite3\n",
    "import seaborn as sns\n",
    "import matplotlib.pyplot as plt\n",
    "from tqdm import tqdm\n",
    "import re\n",
    "from sklearn.feature_extraction.text import CountVectorizer\n",
    "from sklearn.metrics import f1_score\n",
    "plt.style.use('fivethirtyeight')\n",
    "plt.rcParams['figure.figsize'] = [10, 5]\n",
    "warnings.filterwarnings(\"ignore\", category=FutureWarning)\n",
    "%config InlineBackend.figure_format = 'retina'"
   ]
  },
  {
   "cell_type": "code",
   "execution_count": 2,
   "metadata": {},
   "outputs": [],
   "source": [
    "title_ass = pd.read_csv('./associations/title_associations.csv')\n",
    "body_ass = pd.read_csv('./associations/body_associations.csv')"
   ]
  },
  {
   "cell_type": "code",
   "execution_count": 3,
   "metadata": {},
   "outputs": [],
   "source": [
    "title_ass.set_index('token', inplace=True)\n",
    "body_ass.set_index('token', inplace=True)"
   ]
  },
  {
   "cell_type": "code",
   "execution_count": 4,
   "metadata": {},
   "outputs": [
    {
     "data": {
      "text/html": [
       "<div>\n",
       "<style scoped>\n",
       "    .dataframe tbody tr th:only-of-type {\n",
       "        vertical-align: middle;\n",
       "    }\n",
       "\n",
       "    .dataframe tbody tr th {\n",
       "        vertical-align: top;\n",
       "    }\n",
       "\n",
       "    .dataframe thead th {\n",
       "        text-align: right;\n",
       "    }\n",
       "</style>\n",
       "<table border=\"1\" class=\"dataframe\">\n",
       "  <thead>\n",
       "    <tr style=\"text-align: right;\">\n",
       "      <th></th>\n",
       "      <th>pobability</th>\n",
       "      <th>tag</th>\n",
       "    </tr>\n",
       "    <tr>\n",
       "      <th>token</th>\n",
       "      <th></th>\n",
       "      <th></th>\n",
       "    </tr>\n",
       "  </thead>\n",
       "  <tbody>\n",
       "    <tr>\n",
       "      <th>check</th>\n",
       "      <td>0.002395</td>\n",
       "      <td>file-upload</td>\n",
       "    </tr>\n",
       "    <tr>\n",
       "      <th>check</th>\n",
       "      <td>0.000653</td>\n",
       "      <td>image-processing</td>\n",
       "    </tr>\n",
       "    <tr>\n",
       "      <th>check</th>\n",
       "      <td>0.000435</td>\n",
       "      <td>mime-types</td>\n",
       "    </tr>\n",
       "    <tr>\n",
       "      <th>check</th>\n",
       "      <td>0.105916</td>\n",
       "      <td>php</td>\n",
       "    </tr>\n",
       "    <tr>\n",
       "      <th>check</th>\n",
       "      <td>0.001252</td>\n",
       "      <td>upload</td>\n",
       "    </tr>\n",
       "  </tbody>\n",
       "</table>\n",
       "</div>"
      ],
      "text/plain": [
       "       pobability               tag\n",
       "token                              \n",
       "check    0.002395       file-upload\n",
       "check    0.000653  image-processing\n",
       "check    0.000435        mime-types\n",
       "check    0.105916               php\n",
       "check    0.001252            upload"
      ]
     },
     "execution_count": 4,
     "metadata": {},
     "output_type": "execute_result"
    }
   ],
   "source": [
    "title_ass.head()"
   ]
  },
  {
   "cell_type": "code",
   "execution_count": 5,
   "metadata": {},
   "outputs": [
    {
     "data": {
      "text/html": [
       "<div>\n",
       "<style scoped>\n",
       "    .dataframe tbody tr th:only-of-type {\n",
       "        vertical-align: middle;\n",
       "    }\n",
       "\n",
       "    .dataframe tbody tr th {\n",
       "        vertical-align: top;\n",
       "    }\n",
       "\n",
       "    .dataframe thead th {\n",
       "        text-align: right;\n",
       "    }\n",
       "</style>\n",
       "<table border=\"1\" class=\"dataframe\">\n",
       "  <thead>\n",
       "    <tr style=\"text-align: right;\">\n",
       "      <th></th>\n",
       "      <th>pobability</th>\n",
       "      <th>tag</th>\n",
       "    </tr>\n",
       "    <tr>\n",
       "      <th>token</th>\n",
       "      <th></th>\n",
       "      <th></th>\n",
       "    </tr>\n",
       "  </thead>\n",
       "  <tbody>\n",
       "    <tr>\n",
       "      <th>anoth</th>\n",
       "      <td>0.001374</td>\n",
       "      <td>file-upload</td>\n",
       "    </tr>\n",
       "    <tr>\n",
       "      <th>anoth</th>\n",
       "      <td>0.001472</td>\n",
       "      <td>image-processing</td>\n",
       "    </tr>\n",
       "    <tr>\n",
       "      <th>anoth</th>\n",
       "      <td>0.000182</td>\n",
       "      <td>mime-types</td>\n",
       "    </tr>\n",
       "    <tr>\n",
       "      <th>anoth</th>\n",
       "      <td>0.067169</td>\n",
       "      <td>php</td>\n",
       "    </tr>\n",
       "    <tr>\n",
       "      <th>anoth</th>\n",
       "      <td>0.000876</td>\n",
       "      <td>upload</td>\n",
       "    </tr>\n",
       "  </tbody>\n",
       "</table>\n",
       "</div>"
      ],
      "text/plain": [
       "       pobability               tag\n",
       "token                              \n",
       "anoth    0.001374       file-upload\n",
       "anoth    0.001472  image-processing\n",
       "anoth    0.000182        mime-types\n",
       "anoth    0.067169               php\n",
       "anoth    0.000876            upload"
      ]
     },
     "execution_count": 5,
     "metadata": {},
     "output_type": "execute_result"
    }
   ],
   "source": [
    "body_ass.head()"
   ]
  },
  {
   "cell_type": "markdown",
   "metadata": {},
   "source": [
    "##### Creating the multilabel vetorizer for the labels"
   ]
  },
  {
   "cell_type": "code",
   "execution_count": 6,
   "metadata": {},
   "outputs": [],
   "source": [
    "conn = sqlite3.connect('dataset/finalTrain.db')\n",
    "train = pd.read_sql_query('SELECT * FROM train', conn)\n",
    "valid = pd.read_sql_query('SELECT * FROM validation', conn)"
   ]
  },
  {
   "cell_type": "code",
   "execution_count": 23,
   "metadata": {},
   "outputs": [],
   "source": [
    "tqdm.pandas()"
   ]
  },
  {
   "cell_type": "code",
   "execution_count": 29,
   "metadata": {},
   "outputs": [],
   "source": [
    "# valid['body'] = valid.body.progress_apply(lambda x: re.sub('\\\\', '', x))\n",
    "valid['body'] = valid.body.apply(lambda x: re.sub('/', '', x))\n",
    "valid['body'] = valid.body.apply(lambda x: re.sub('@', '', x))\n",
    "valid['body'] = valid.body.apply(lambda x: re.sub('\\[', '', x))\n",
    "valid['body'] = valid.body.apply(lambda x: re.sub('\\]', '', x))"
   ]
  },
  {
   "cell_type": "code",
   "execution_count": 7,
   "metadata": {},
   "outputs": [],
   "source": [
    "all_tags = []"
   ]
  },
  {
   "cell_type": "code",
   "execution_count": 8,
   "metadata": {},
   "outputs": [
    {
     "name": "stderr",
     "output_type": "stream",
     "text": [
      "100%|██████████| 2000001/2000001 [00:01<00:00, 1078841.81it/s]\n"
     ]
    }
   ],
   "source": [
    "for tag in tqdm(train.Tags):\n",
    "    all_tags.extend(tag.split())"
   ]
  },
  {
   "cell_type": "code",
   "execution_count": 9,
   "metadata": {},
   "outputs": [
    {
     "name": "stderr",
     "output_type": "stream",
     "text": [
      "100%|██████████| 2206306/2206306 [00:02<00:00, 1009047.28it/s]\n"
     ]
    }
   ],
   "source": [
    "for tag in tqdm(valid.Tags):\n",
    "    all_tags.extend(tag.split())"
   ]
  },
  {
   "cell_type": "code",
   "execution_count": 10,
   "metadata": {},
   "outputs": [],
   "source": [
    "tags = pd.concat([train.Tags, valid.Tags], ignore_index=True)"
   ]
  },
  {
   "cell_type": "code",
   "execution_count": 11,
   "metadata": {},
   "outputs": [],
   "source": [
    "vectorizer = CountVectorizer(tokenizer = lambda x: x.split(), binary='true')"
   ]
  },
  {
   "cell_type": "code",
   "execution_count": 12,
   "metadata": {},
   "outputs": [
    {
     "data": {
      "text/plain": [
       "CountVectorizer(analyzer='word', binary='true', decode_error='strict',\n",
       "        dtype=<class 'numpy.int64'>, encoding='utf-8', input='content',\n",
       "        lowercase=True, max_df=1.0, max_features=None, min_df=1,\n",
       "        ngram_range=(1, 1), preprocessor=None, stop_words=None,\n",
       "        strip_accents=None, token_pattern='(?u)\\\\b\\\\w\\\\w+\\\\b',\n",
       "        tokenizer=<function <lambda> at 0x7f207eeb1378>, vocabulary=None)"
      ]
     },
     "execution_count": 12,
     "metadata": {},
     "output_type": "execute_result"
    }
   ],
   "source": [
    "vectorizer.fit(tags)"
   ]
  },
  {
   "cell_type": "markdown",
   "metadata": {},
   "source": [
    "##### Creating the the predict function from the association tables (title & body)"
   ]
  },
  {
   "cell_type": "code",
   "execution_count": 13,
   "metadata": {},
   "outputs": [],
   "source": [
    "def predict_tags(title, table):\n",
    "    title = title.split()\n",
    "    tags = set()\n",
    "    for word in title:\n",
    "        try:\n",
    "            tags.update(np.unique(table.loc[word].tag[0:5]))\n",
    "        except:\n",
    "            pass\n",
    "    return sorted(tags)"
   ]
  },
  {
   "cell_type": "markdown",
   "metadata": {},
   "source": [
    "##### Fitting for the hypter-param for the tittle associations"
   ]
  },
  {
   "cell_type": "code",
   "execution_count": null,
   "metadata": {},
   "outputs": [],
   "source": [
    "ITERS = 10\n",
    "FOLDSIZE = 100\n",
    "f1_scores = {}\n",
    "for threshold in [0.9, 0.8, 0.7, 0.6, 0.5, 0.45, 0.4, 0.35, 0.3, 0.25]:\n",
    "    f1s = []\n",
    "    table = title_ass[title_ass.pobability >= threshold]\n",
    "    for itr in tqdm(range(ITERS)):\n",
    "        ## Sample the validation data of FOLDSIZE\n",
    "        sample = valid.sample(FOLDSIZE)\n",
    "        true = []\n",
    "        pred = []\n",
    "        for title, tag in tqdm(zip(sample.Title, sample.Tags)):\n",
    "            pred.append(predict_tags(title, table))\n",
    "            true.append(sorted(tag.split()))\n",
    "        true_str = []\n",
    "        pred_str = []\n",
    "        for t, p in zip(true, pred):\n",
    "            true_str.append(' '.join(t))\n",
    "            pred_str.append(' '.join(p))\n",
    "        T = vectorizer.transform(true_str)\n",
    "        P = vectorizer.transform(pred_str)\n",
    "        f1 = f1_score(T, P, average='micro')\n",
    "        f1s.append(f1)\n",
    "    f1_scores[str(round(threshold, 2))] = np.mean(f1s)\n",
    "#     print(f'Done for {threshold}')"
   ]
  },
  {
   "cell_type": "code",
   "execution_count": 272,
   "metadata": {},
   "outputs": [],
   "source": [
    "scores_titles = pd.DataFrame.from_dict(f1_scores, orient='index', columns=['f1_score'])"
   ]
  },
  {
   "cell_type": "code",
   "execution_count": 281,
   "metadata": {},
   "outputs": [
    {
     "data": {
      "image/png": "[encoded data removed]",
      "text/plain": [
       "<Figure size 720x360 with 1 Axes>"
      ]
     },
     "metadata": {
      "image/png": {
       "height": 312,
       "width": 675
      }
     },
     "output_type": "display_data"
    }
   ],
   "source": [
    "scores_titles.plot.line();"
   ]
  },
  {
   "cell_type": "markdown",
   "metadata": {},
   "source": [
    "##### Fitting for the hyperparamerter for the body associations"
   ]
  },
  {
   "cell_type": "code",
   "execution_count": null,
   "metadata": {
    "scrolled": true
   },
   "outputs": [],
   "source": [
    "ITERS = 10\n",
    "FOLDSIZE = 100\n",
    "f1_scores = {}\n",
    "for threshold in [0.5, 0.4, 0.3, 0.35]:\n",
    "    f1s = []\n",
    "    table = body_ass[body_ass.pobability >= threshold]\n",
    "    table.set_index('token', inplace=True)\n",
    "    for itr in tqdm(range(ITERS)):\n",
    "        ## Sample the validation data of FOLDSIZE\n",
    "        sample = valid.sample(FOLDSIZE)\n",
    "        true = []\n",
    "        pred = []\n",
    "        for body, tag in tqdm(zip(sample.body, sample.Tags)):\n",
    "            pred.append(predict_tags(body, table))\n",
    "            true.append(sorted(tag.split()))\n",
    "        true_str = []\n",
    "        pred_str = []\n",
    "        for t, p in zip(true, pred):\n",
    "            true_str.append(' '.join(t))\n",
    "            pred_str.append(' '.join(p))\n",
    "        T = vectorizer.transform(true_str)\n",
    "        P = vectorizer.transform(pred_str)\n",
    "        f1 = f1_score(T, P, average='micro')\n",
    "        f1s.append(f1)\n",
    "    f1_scores[str(round(threshold, 2))] = np.mean(f1s)\n",
    "    print(f'Done for {threshold}')"
   ]
  },
  {
   "cell_type": "code",
   "execution_count": 81,
   "metadata": {},
   "outputs": [],
   "source": [
    "scores_titles = pd.DataFrame.from_dict(f1_scores, orient='index', columns=['f1_score'])"
   ]
  },
  {
   "cell_type": "code",
   "execution_count": 83,
   "metadata": {},
   "outputs": [
    {
     "data": {
      "image/png": "[encoded data removed]",
      "text/plain": [
       "<Figure size 432x288 with 1 Axes>"
      ]
     },
     "metadata": {
      "image/png": {
       "height": 236,
       "width": 416
      },
      "needs_background": "light"
     },
     "output_type": "display_data"
    }
   ],
   "source": [
    "scores_titles.plot.line();"
   ]
  },
  {
   "cell_type": "code",
   "execution_count": 14,
   "metadata": {},
   "outputs": [],
   "source": [
    "title_table = title_ass[title_ass.pobability >= 0.35]"
   ]
  },
  {
   "cell_type": "code",
   "execution_count": 15,
   "metadata": {},
   "outputs": [],
   "source": [
    "body_table = body_ass[body_ass.pobability >= 0.35]"
   ]
  },
  {
   "cell_type": "code",
   "execution_count": 23,
   "metadata": {},
   "outputs": [],
   "source": [
    "a = predict_tags(valid.Title[0], title_table)"
   ]
  },
  {
   "cell_type": "code",
   "execution_count": 24,
   "metadata": {},
   "outputs": [],
   "source": [
    "b = predict_tags(valid.body[0], body_table)"
   ]
  },
  {
   "cell_type": "code",
   "execution_count": 27,
   "metadata": {},
   "outputs": [],
   "source": [
    "a.extend(b)"
   ]
  },
  {
   "cell_type": "code",
   "execution_count": 29,
   "metadata": {},
   "outputs": [
    {
     "data": {
      "text/plain": [
       "{'actio',\n",
       " 'asp.n',\n",
       " 'java',\n",
       " 'mysql',\n",
       " 'ruby-',\n",
       " 'spring',\n",
       " 'spring-mvc',\n",
       " 'web-applications'}"
      ]
     },
     "execution_count": 29,
     "metadata": {},
     "output_type": "execute_result"
    }
   ],
   "source": [
    "set(a)"
   ]
  },
  {
   "cell_type": "code",
   "execution_count": 16,
   "metadata": {},
   "outputs": [],
   "source": [
    "a = title_table.loc[valid.Title[0].split()].dropna()"
   ]
  },
  {
   "cell_type": "code",
   "execution_count": 42,
   "metadata": {},
   "outputs": [],
   "source": [
    "b = body_table.loc[valid.body[0].split()].dropna()"
   ]
  },
  {
   "cell_type": "code",
   "execution_count": 19,
   "metadata": {},
   "outputs": [
    {
     "data": {
      "text/plain": [
       "array(['spring', 'asp.net-mvc', 'java'], dtype=object)"
      ]
     },
     "execution_count": 19,
     "metadata": {},
     "output_type": "execute_result"
    }
   ],
   "source": [
    "a.sort_values('pobability', ascending=False).tag.unique()"
   ]
  },
  {
   "cell_type": "code",
   "execution_count": 51,
   "metadata": {},
   "outputs": [
    {
     "data": {
      "text/plain": [
       "array(['web-applications', 'java', 'spring-mvc', 'spring', 'asp.net-mvc',\n",
       "       'actionscript-3', 'mysql', 'ruby-on-rails'], dtype=object)"
      ]
     },
     "execution_count": 51,
     "metadata": {},
     "output_type": "execute_result"
    }
   ],
   "source": [
    "pd.concat([a, b], ignore_index=True).sort_values('pobability', ascending=False).tag.unique()"
   ]
  },
  {
   "cell_type": "code",
   "execution_count": 53,
   "metadata": {},
   "outputs": [],
   "source": [
    "def merge_predict(title, body, ttbl, btbl):\n",
    "    ttags = None\n",
    "    btags = None\n",
    "    try:\n",
    "        ttags = ttbl.loc[title.split()].dropna()\n",
    "    except KeyError:\n",
    "        pass\n",
    "    try:\n",
    "        btags = btbl.loc[body.split()].dropna()\n",
    "    except KeyError:\n",
    "        pass\n",
    "    indicator = 0\n",
    "    tags = \"\"\n",
    "    if ttags is None and btags is None:\n",
    "        indicator = 3\n",
    "    elif ttags is None:\n",
    "        indicator = 2\n",
    "    elif btags is None:\n",
    "        indicator = 1\n",
    "\n",
    "    if indicator == 0:\n",
    "        tags = pd.concat([ttags, btags], ignore_index=True).sort_values('pobability', \n",
    "                                                             ascending=False).tag.unique()\n",
    "    elif indicator == 1:\n",
    "        tags = ttags.sort_values('pobability', ascending=False).tag.unique()\n",
    "    elif indicator == 2:\n",
    "        tags = btags.sort_values('pobability', ascending=False).tag.unique()\n",
    "    return [\" \".join(tags[0:5])]"
   ]
  },
  {
   "cell_type": "code",
   "execution_count": 72,
   "metadata": {},
   "outputs": [],
   "source": [
    "test_sample = valid.sample(5000)"
   ]
  },
  {
   "cell_type": "code",
   "execution_count": 73,
   "metadata": {},
   "outputs": [],
   "source": [
    "from tqdm import tqdm_notebook"
   ]
  },
  {
   "cell_type": "code",
   "execution_count": 74,
   "metadata": {},
   "outputs": [
    {
     "data": {
      "application/vnd.jupyter.widget-view+json": {
       "model_id": "a36d9eafc91f4c16b2c3a5d283265376",
       "version_major": 2,
       "version_minor": 0
      },
      "text/plain": [
       "HBox(children=(IntProgress(value=1, bar_style='info', max=1), HTML(value='')))"
      ]
     },
     "metadata": {},
     "output_type": "display_data"
    },
    {
     "name": "stdout",
     "output_type": "stream",
     "text": [
      "\n"
     ]
    }
   ],
   "source": [
    "preds = []\n",
    "trues = []\n",
    "for title, body, tag in tqdm_notebook(zip(test_sample.Title, test_sample.body, test_sample.Tags)):    \n",
    "    preds.append(merge_predict(title, body, title_table, body_table))\n",
    "    trues.append([tag])"
   ]
  },
  {
   "cell_type": "code",
   "execution_count": 80,
   "metadata": {},
   "outputs": [],
   "source": [
    "preds = [each[0] for each in preds]\n",
    "trues = [each[0] for each in trues]"
   ]
  },
  {
   "cell_type": "code",
   "execution_count": 83,
   "metadata": {},
   "outputs": [],
   "source": [
    "P = vectorizer.transform(preds)\n",
    "T = vectorizer.transform(trues)"
   ]
  },
  {
   "cell_type": "code",
   "execution_count": 84,
   "metadata": {},
   "outputs": [
    {
     "data": {
      "text/plain": [
       "0.4290014731313649"
      ]
     },
     "execution_count": 84,
     "metadata": {},
     "output_type": "execute_result"
    }
   ],
   "source": [
    "f1_score(T, P, average='micro')"
   ]
  }
 ],
 "metadata": {
  "kernelspec": {
   "display_name": "Python 3",
   "language": "python",
   "name": "python3"
  },
  "language_info": {
   "codemirror_mode": {
    "name": "ipython",
    "version": 3
   },
   "file_extension": ".py",
   "mimetype": "text/x-python",
   "name": "python",
   "nbconvert_exporter": "python",
   "pygments_lexer": "ipython3",
   "version": "3.6.6"
  }
 },
 "nbformat": 4,
 "nbformat_minor": 2
}
