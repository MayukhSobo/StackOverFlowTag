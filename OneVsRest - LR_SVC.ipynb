{
 "cells": [
  {
   "cell_type": "code",
   "execution_count": 79,
   "metadata": {},
   "outputs": [],
   "source": [
    "import numpy as np\n",
    "import pandas as pd\n",
    "import sqlite3\n",
    "from tqdm import tqdm\n",
    "import re\n",
    "import seaborn as sns\n",
    "import matplotlib.pyplot as plt\n",
    "plt.style.use('fivethirtyeight')\n",
    "plt.rcParams['figure.figsize'] = [10, 5]\n",
    "%config InlineBackend.figure_format = 'retina'"
   ]
  },
  {
   "cell_type": "code",
   "execution_count": 2,
   "metadata": {},
   "outputs": [],
   "source": [
    "conn = sqlite3.connect('./dataset/finalTrain.db')\n",
    "train = pd.read_sql_query('SELECT * FROM train', conn)\n",
    "valid = pd.read_sql_query('SELECT * FROM validation', conn)"
   ]
  },
  {
   "cell_type": "code",
   "execution_count": 3,
   "metadata": {},
   "outputs": [],
   "source": [
    "tqdm.pandas()"
   ]
  },
  {
   "cell_type": "code",
   "execution_count": 4,
   "metadata": {},
   "outputs": [],
   "source": [
    "data = pd.concat([train, valid], ignore_index=True)"
   ]
  },
  {
   "cell_type": "code",
   "execution_count": 5,
   "metadata": {},
   "outputs": [
    {
     "name": "stderr",
     "output_type": "stream",
     "text": [
      "100%|██████████| 4206307/4206307 [00:11<00:00, 352005.99it/s]\n",
      "100%|██████████| 4206307/4206307 [00:10<00:00, 409458.30it/s]\n",
      "100%|██████████| 4206307/4206307 [00:11<00:00, 381142.39it/s]\n",
      "100%|██████████| 4206307/4206307 [00:10<00:00, 392465.28it/s]\n"
     ]
    }
   ],
   "source": [
    "data['body'] = data.body.progress_apply(lambda x: re.sub('/', '', x))\n",
    "data['body'] = data.body.progress_apply(lambda x: re.sub('@', '', x))\n",
    "data['body'] = data.body.progress_apply(lambda x: re.sub('\\[', '', x))\n",
    "data['body'] = data.body.progress_apply(lambda x: re.sub('\\]', '', x))"
   ]
  },
  {
   "cell_type": "code",
   "execution_count": 6,
   "metadata": {},
   "outputs": [
    {
     "data": {
      "text/plain": [
       "(4206307, 11)"
      ]
     },
     "execution_count": 6,
     "metadata": {},
     "output_type": "execute_result"
    }
   ],
   "source": [
    "data.shape"
   ]
  },
  {
   "cell_type": "code",
   "execution_count": 7,
   "metadata": {},
   "outputs": [],
   "source": [
    "data.dropna(subset=['body'], inplace=True)"
   ]
  },
  {
   "cell_type": "code",
   "execution_count": 8,
   "metadata": {},
   "outputs": [
    {
     "data": {
      "text/plain": [
       "(4206307, 11)"
      ]
     },
     "execution_count": 8,
     "metadata": {},
     "output_type": "execute_result"
    }
   ],
   "source": [
    "data.shape"
   ]
  },
  {
   "cell_type": "code",
   "execution_count": 8,
   "metadata": {},
   "outputs": [
    {
     "data": {
      "text/html": [
       "<div>\n",
       "<style scoped>\n",
       "    .dataframe tbody tr th:only-of-type {\n",
       "        vertical-align: middle;\n",
       "    }\n",
       "\n",
       "    .dataframe tbody tr th {\n",
       "        vertical-align: top;\n",
       "    }\n",
       "\n",
       "    .dataframe thead th {\n",
       "        text-align: right;\n",
       "    }\n",
       "</style>\n",
       "<table border=\"1\" class=\"dataframe\">\n",
       "  <thead>\n",
       "    <tr style=\"text-align: right;\">\n",
       "      <th></th>\n",
       "      <th>Id</th>\n",
       "      <th>Title</th>\n",
       "      <th>Tags</th>\n",
       "      <th>title_length</th>\n",
       "      <th>best_tags</th>\n",
       "      <th>body_length</th>\n",
       "      <th>code</th>\n",
       "      <th>body</th>\n",
       "      <th>possbleCpp</th>\n",
       "      <th>possbleJava</th>\n",
       "      <th>possbleC#</th>\n",
       "    </tr>\n",
       "  </thead>\n",
       "  <tbody>\n",
       "    <tr>\n",
       "      <th>0</th>\n",
       "      <td>1</td>\n",
       "      <td>check upload file imag without mime type</td>\n",
       "      <td>php image-processing file-upload upload mime-t...</td>\n",
       "      <td>63</td>\n",
       "      <td>php</td>\n",
       "      <td>408</td>\n",
       "      <td></td>\n",
       "      <td>i  like to check if an upload file is an imag ...</td>\n",
       "      <td>0</td>\n",
       "      <td>0</td>\n",
       "      <td>0</td>\n",
       "    </tr>\n",
       "    <tr>\n",
       "      <th>1</th>\n",
       "      <td>2</td>\n",
       "      <td>prevent firefox close press ctrl-w</td>\n",
       "      <td>firefox</td>\n",
       "      <td>58</td>\n",
       "      <td>other</td>\n",
       "      <td>360</td>\n",
       "      <td></td>\n",
       "      <td>in my favorit editor  vim   i regular use ctrl...</td>\n",
       "      <td>0</td>\n",
       "      <td>0</td>\n",
       "      <td>0</td>\n",
       "    </tr>\n",
       "    <tr>\n",
       "      <th>2</th>\n",
       "      <td>3</td>\n",
       "      <td>r error invalid type list variabl</td>\n",
       "      <td>r matlab machine-learning</td>\n",
       "      <td>40</td>\n",
       "      <td>other</td>\n",
       "      <td>13532</td>\n",
       "      <td>Error in model.frame.default(formula = expert_...</td>\n",
       "      <td>i am import matlab file and construct a data f...</td>\n",
       "      <td>0</td>\n",
       "      <td>0</td>\n",
       "      <td>0</td>\n",
       "    </tr>\n",
       "    <tr>\n",
       "      <th>3</th>\n",
       "      <td>4</td>\n",
       "      <td>replac special charact url</td>\n",
       "      <td>c# url encoding</td>\n",
       "      <td>45</td>\n",
       "      <td>c#</td>\n",
       "      <td>562</td>\n",
       "      <td></td>\n",
       "      <td>this is probabl veri simpl  but i simpli can n...</td>\n",
       "      <td>0</td>\n",
       "      <td>0</td>\n",
       "      <td>0</td>\n",
       "    </tr>\n",
       "    <tr>\n",
       "      <th>4</th>\n",
       "      <td>5</td>\n",
       "      <td>modifi whoi contact detail</td>\n",
       "      <td>php api file-get-contents</td>\n",
       "      <td>36</td>\n",
       "      <td>php</td>\n",
       "      <td>990</td>\n",
       "      <td>function modify(.......)\\n{\\n  $mcontact = fil...</td>\n",
       "      <td>use this modifi function  display warn mesag p...</td>\n",
       "      <td>0</td>\n",
       "      <td>0</td>\n",
       "      <td>0</td>\n",
       "    </tr>\n",
       "  </tbody>\n",
       "</table>\n",
       "</div>"
      ],
      "text/plain": [
       "   Id                                     Title  \\\n",
       "0   1  check upload file imag without mime type   \n",
       "1   2        prevent firefox close press ctrl-w   \n",
       "2   3         r error invalid type list variabl   \n",
       "3   4                replac special charact url   \n",
       "4   5                modifi whoi contact detail   \n",
       "\n",
       "                                                Tags  title_length best_tags  \\\n",
       "0  php image-processing file-upload upload mime-t...            63       php   \n",
       "1                                            firefox            58     other   \n",
       "2                          r matlab machine-learning            40     other   \n",
       "3                                    c# url encoding            45        c#   \n",
       "4                          php api file-get-contents            36       php   \n",
       "\n",
       "   body_length                                               code  \\\n",
       "0          408                                                      \n",
       "1          360                                                      \n",
       "2        13532  Error in model.frame.default(formula = expert_...   \n",
       "3          562                                                      \n",
       "4          990  function modify(.......)\\n{\\n  $mcontact = fil...   \n",
       "\n",
       "                                                body  possbleCpp  possbleJava  \\\n",
       "0  i  like to check if an upload file is an imag ...           0            0   \n",
       "1  in my favorit editor  vim   i regular use ctrl...           0            0   \n",
       "2  i am import matlab file and construct a data f...           0            0   \n",
       "3  this is probabl veri simpl  but i simpli can n...           0            0   \n",
       "4  use this modifi function  display warn mesag p...           0            0   \n",
       "\n",
       "   possbleC#  \n",
       "0          0  \n",
       "1          0  \n",
       "2          0  \n",
       "3          0  \n",
       "4          0  "
      ]
     },
     "execution_count": 8,
     "metadata": {},
     "output_type": "execute_result"
    }
   ],
   "source": [
    "data.head()"
   ]
  },
  {
   "cell_type": "markdown",
   "metadata": {},
   "source": [
    "### Sample the dataset"
   ]
  },
  {
   "cell_type": "code",
   "execution_count": 9,
   "metadata": {},
   "outputs": [],
   "source": [
    "from sklearn.feature_extraction.text import CountVectorizer\n",
    "from sklearn.model_selection import train_test_split"
   ]
  },
  {
   "cell_type": "code",
   "execution_count": 10,
   "metadata": {},
   "outputs": [],
   "source": [
    "sample = data.sample(500000)"
   ]
  },
  {
   "cell_type": "code",
   "execution_count": 11,
   "metadata": {},
   "outputs": [
    {
     "data": {
      "text/plain": [
       "(500000, 11)"
      ]
     },
     "execution_count": 11,
     "metadata": {},
     "output_type": "execute_result"
    }
   ],
   "source": [
    "sample.shape"
   ]
  },
  {
   "cell_type": "markdown",
   "metadata": {},
   "source": [
    "### Choosing top tags"
   ]
  },
  {
   "cell_type": "code",
   "execution_count": 12,
   "metadata": {},
   "outputs": [],
   "source": [
    "sample.dropna(inplace=True)"
   ]
  },
  {
   "cell_type": "code",
   "execution_count": 13,
   "metadata": {},
   "outputs": [
    {
     "data": {
      "text/plain": [
       "(500000, 11)"
      ]
     },
     "execution_count": 13,
     "metadata": {},
     "output_type": "execute_result"
    }
   ],
   "source": [
    "sample.shape"
   ]
  },
  {
   "cell_type": "code",
   "execution_count": 14,
   "metadata": {},
   "outputs": [],
   "source": [
    "vectorizer = CountVectorizer(tokenizer= lambda x: x.split(), binary=True)\n",
    "multilabel_y = vectorizer.fit_transform(sample.Tags)"
   ]
  },
  {
   "cell_type": "code",
   "execution_count": 15,
   "metadata": {},
   "outputs": [
    {
     "data": {
      "text/plain": [
       "(500000, 30669)"
      ]
     },
     "execution_count": 15,
     "metadata": {},
     "output_type": "execute_result"
    }
   ],
   "source": [
    "multilabel_y.shape"
   ]
  },
  {
   "cell_type": "markdown",
   "metadata": {},
   "source": [
    "### Check the infection point for number of tags"
   ]
  },
  {
   "cell_type": "code",
   "execution_count": 16,
   "metadata": {},
   "outputs": [],
   "source": [
    "nTags = multilabel_y.shape[1]"
   ]
  },
  {
   "cell_type": "code",
   "execution_count": 17,
   "metadata": {},
   "outputs": [],
   "source": [
    "question_explained = {}"
   ]
  },
  {
   "cell_type": "code",
   "execution_count": 18,
   "metadata": {},
   "outputs": [
    {
     "name": "stderr",
     "output_type": "stream",
     "text": [
      "100%|██████████| 302/302 [00:23<00:00, 11.70it/s]\n"
     ]
    }
   ],
   "source": [
    "for i in tqdm(range(500, nTags, 100)):\n",
    "    t = np.array(multilabel_y.sum(axis=0))[0]\n",
    "    multilabel_yn = multilabel_y[:, np.argsort(t)[::-1][0:i]]\n",
    "    nz = np.count_nonzero(multilabel_yn.sum(axis=1))\n",
    "    question_explained[i] = nz"
   ]
  },
  {
   "cell_type": "code",
   "execution_count": 19,
   "metadata": {},
   "outputs": [],
   "source": [
    "qe = pd.DataFrame.from_dict(question_explained, orient='index')\n",
    "qe.columns = ['questionExplained']\n",
    "qe['questionExplained'] = qe.questionExplained / sample.shape[0] * 100.0"
   ]
  },
  {
   "cell_type": "code",
   "execution_count": 20,
   "metadata": {},
   "outputs": [
    {
     "data": {
      "image/png": "[encoded data removed]",
      "text/plain": [
       "<Figure size 432x288 with 1 Axes>"
      ]
     },
     "metadata": {
      "image/png": {
       "height": 244,
       "width": 412
      },
      "needs_background": "light"
     },
     "output_type": "display_data"
    }
   ],
   "source": [
    "qe.plot.line();"
   ]
  },
  {
   "cell_type": "code",
   "execution_count": 23,
   "metadata": {},
   "outputs": [
    {
     "data": {
      "text/plain": [
       "questionExplained    89.974\n",
       "Name: 500, dtype: float64"
      ]
     },
     "execution_count": 23,
     "metadata": {},
     "output_type": "execute_result"
    }
   ],
   "source": [
    "qe.loc[500]"
   ]
  },
  {
   "cell_type": "code",
   "execution_count": 24,
   "metadata": {},
   "outputs": [
    {
     "data": {
      "text/plain": [
       "0.89974"
      ]
     },
     "execution_count": 24,
     "metadata": {},
     "output_type": "execute_result"
    }
   ],
   "source": [
    "question_explained[500] / sample.shape[0]"
   ]
  },
  {
   "cell_type": "markdown",
   "metadata": {},
   "source": [
    "#### Splitting the data"
   ]
  },
  {
   "cell_type": "code",
   "execution_count": 2,
   "metadata": {},
   "outputs": [],
   "source": [
    "from scipy.sparse import load_npz, save_npz"
   ]
  },
  {
   "cell_type": "code",
   "execution_count": 27,
   "metadata": {},
   "outputs": [],
   "source": [
    "t = np.array(multilabel_y.sum(axis=0))[0]\n",
    "sampleY = multilabel_y[:, np.argsort(t)[::-1][0:500]]"
   ]
  },
  {
   "cell_type": "code",
   "execution_count": 29,
   "metadata": {},
   "outputs": [],
   "source": [
    "# Xtrain = sample.head(2000000)\n",
    "ytrain = sampleY[0:400000, :]\n",
    "# Xtest = sample.tail(1000000)\n",
    "ytest = sampleY[400000:500000, :]"
   ]
  },
  {
   "cell_type": "code",
   "execution_count": 28,
   "metadata": {},
   "outputs": [],
   "source": [
    "save_npz('sampleY.npz', sampleY)"
   ]
  },
  {
   "cell_type": "code",
   "execution_count": 30,
   "metadata": {},
   "outputs": [
    {
     "data": {
      "text/plain": [
       "(400000, 500)"
      ]
     },
     "execution_count": 30,
     "metadata": {},
     "output_type": "execute_result"
    }
   ],
   "source": [
    "ytrain.shape"
   ]
  },
  {
   "cell_type": "code",
   "execution_count": 31,
   "metadata": {},
   "outputs": [
    {
     "data": {
      "text/plain": [
       "(100000, 500)"
      ]
     },
     "execution_count": 31,
     "metadata": {},
     "output_type": "execute_result"
    }
   ],
   "source": [
    "ytest.shape"
   ]
  },
  {
   "cell_type": "markdown",
   "metadata": {},
   "source": [
    "### Featurize the data"
   ]
  },
  {
   "cell_type": "code",
   "execution_count": 4,
   "metadata": {},
   "outputs": [],
   "source": [
    "from sklearn.feature_extraction.text import TfidfVectorizer"
   ]
  },
  {
   "cell_type": "code",
   "execution_count": 33,
   "metadata": {},
   "outputs": [],
   "source": [
    "vectorizer = TfidfVectorizer(min_df=0.00009, max_features=100000, smooth_idf=True, norm=\"l2\", \\\n",
    "                             tokenizer = lambda x: x.split(), sublinear_tf=False, ngram_range=(1,4))"
   ]
  },
  {
   "cell_type": "code",
   "execution_count": 34,
   "metadata": {},
   "outputs": [],
   "source": [
    "# sample.drop(['Id', 'title_length', \n",
    "#             'best_tags', 'body_length', 'code',\n",
    "#             'possbleCpp', 'possbleJava', 'possbleC#'], axis=1, inplace=True)"
   ]
  },
  {
   "cell_type": "markdown",
   "metadata": {},
   "source": [
    "#### Multiplying the title 3 times"
   ]
  },
  {
   "cell_type": "code",
   "execution_count": 35,
   "metadata": {},
   "outputs": [
    {
     "name": "stderr",
     "output_type": "stream",
     "text": [
      "100%|██████████| 500000/500000 [00:01<00:00, 478918.49it/s]\n"
     ]
    }
   ],
   "source": [
    "sample['Title'] = sample.Title.progress_apply(lambda x: \" \".join([x] * 3))"
   ]
  },
  {
   "cell_type": "code",
   "execution_count": 8,
   "metadata": {},
   "outputs": [],
   "source": [
    "from datetime import datetime"
   ]
  },
  {
   "cell_type": "code",
   "execution_count": 37,
   "metadata": {},
   "outputs": [
    {
     "name": "stdout",
     "output_type": "stream",
     "text": [
      "Time taken : 0:01:05.382489\n"
     ]
    }
   ],
   "source": [
    "start = datetime.now()\n",
    "sampleX = vectorizer.fit_transform(sample.Title)\n",
    "print(\"Time taken :\", datetime.now() - start)"
   ]
  },
  {
   "cell_type": "code",
   "execution_count": 2,
   "metadata": {},
   "outputs": [],
   "source": [
    "conn = sqlite3.connect('dataset/sample.db')\n",
    "sample = pd.read_sql_query('SELECT * FROM sample', conn)"
   ]
  },
  {
   "cell_type": "code",
   "execution_count": 5,
   "metadata": {},
   "outputs": [],
   "source": [
    "vectorizer = TfidfVectorizer(min_df=0.00009, max_features=100000, smooth_idf=True, norm=\"l2\", \\\n",
    "                             tokenizer = lambda x: x.split(), sublinear_tf=False, ngram_range=(1,4))"
   ]
  },
  {
   "cell_type": "code",
   "execution_count": 8,
   "metadata": {},
   "outputs": [
    {
     "name": "stdout",
     "output_type": "stream",
     "text": [
      "Time taken : 0:11:02.263474\n"
     ]
    }
   ],
   "source": [
    "start = datetime.now()\n",
    "sampleX_body = vectorizer.fit_transform(sample.body)\n",
    "print(\"Time taken :\", datetime.now() - start)"
   ]
  },
  {
   "cell_type": "code",
   "execution_count": 9,
   "metadata": {},
   "outputs": [
    {
     "data": {
      "text/plain": [
       "(500000, 100000)"
      ]
     },
     "execution_count": 9,
     "metadata": {},
     "output_type": "execute_result"
    }
   ],
   "source": [
    "sampleX_body.shape"
   ]
  },
  {
   "cell_type": "code",
   "execution_count": 5,
   "metadata": {},
   "outputs": [],
   "source": [
    "sampleY = load_npz('sampleY.npz')\n",
    "# sampleX = load_npz('sampleX.npz')\n",
    "sampleX_body = load_npz('sampleX_body.npz')"
   ]
  },
  {
   "cell_type": "markdown",
   "metadata": {},
   "source": [
    "### Fitting the OvR models"
   ]
  },
  {
   "cell_type": "markdown",
   "metadata": {},
   "source": [
    "##### Fitting on the titles"
   ]
  },
  {
   "cell_type": "code",
   "execution_count": 3,
   "metadata": {},
   "outputs": [],
   "source": [
    "from sklearn.multiclass import OneVsRestClassifier\n",
    "from sklearn.linear_model import SGDClassifier"
   ]
  },
  {
   "cell_type": "code",
   "execution_count": 9,
   "metadata": {},
   "outputs": [],
   "source": [
    "x_train_multilabel = sampleX_body[0:400000, :]\n",
    "y_train = sampleY[0:400000, :]\n",
    "x_test_multilabel = sampleX_body[400000:500000, :]\n",
    "y_test = sampleY[400000:500000, :]"
   ]
  },
  {
   "cell_type": "code",
   "execution_count": 10,
   "metadata": {},
   "outputs": [
    {
     "data": {
      "text/plain": [
       "(400000, 100000)"
      ]
     },
     "execution_count": 10,
     "metadata": {},
     "output_type": "execute_result"
    }
   ],
   "source": [
    "x_train_multilabel.shape"
   ]
  },
  {
   "cell_type": "code",
   "execution_count": 11,
   "metadata": {},
   "outputs": [
    {
     "data": {
      "text/plain": [
       "(400000, 500)"
      ]
     },
     "execution_count": 11,
     "metadata": {},
     "output_type": "execute_result"
    }
   ],
   "source": [
    "y_train.shape"
   ]
  },
  {
   "cell_type": "markdown",
   "metadata": {},
   "source": [
    "#### Training on the title X 3 times"
   ]
  },
  {
   "cell_type": "code",
   "execution_count": 11,
   "metadata": {},
   "outputs": [
    {
     "name": "stdout",
     "output_type": "stream",
     "text": [
      "Time taken : 0:00:54.484018\n"
     ]
    }
   ],
   "source": [
    "start = datetime.now()\n",
    "classifier = OneVsRestClassifier(SGDClassifier(loss='log', alpha=0.00001, penalty='l1', verbose=2), n_jobs=-1)\n",
    "classifier.fit(x_train_multilabel, y_train)\n",
    "print(\"Time taken :\", datetime.now() - start)"
   ]
  },
  {
   "cell_type": "code",
   "execution_count": 12,
   "metadata": {},
   "outputs": [],
   "source": [
    "predictions = classifier.predict(x_test_multilabel)"
   ]
  },
  {
   "cell_type": "code",
   "execution_count": 5,
   "metadata": {},
   "outputs": [],
   "source": [
    "from sklearn import metrics"
   ]
  },
  {
   "cell_type": "code",
   "execution_count": 15,
   "metadata": {
    "scrolled": false
   },
   "outputs": [
    {
     "name": "stdout",
     "output_type": "stream",
     "text": [
      "Accuracy : 0.22911\n",
      "Hamming loss  0.002852\n",
      "Micro-average quality numbers\n",
      "Precision: 0.7542, Recall: 0.3122, F1-measure: 0.4416\n",
      "Macro-average quality numbers\n",
      "Precision: 0.5575, Recall: 0.2405, F1-measure: 0.3211\n",
      "Time taken to run this cell : 0:00:00.079012\n"
     ]
    }
   ],
   "source": [
    "start = datetime.now()\n",
    "print(\"Accuracy :\",metrics.accuracy_score(y_test, predictions))\n",
    "print(\"Hamming loss \",metrics.hamming_loss(y_test,predictions))\n",
    "\n",
    "\n",
    "precision = metrics.precision_score(y_test, predictions, average='micro')\n",
    "recall = metrics.recall_score(y_test, predictions, average='micro')\n",
    "f1 = metrics.f1_score(y_test, predictions, average='micro')\n",
    " \n",
    "print(\"Micro-average quality numbers\")\n",
    "print(\"Precision: {:.4f}, Recall: {:.4f}, F1-measure: {:.4f}\".format(precision, recall, f1))\n",
    "\n",
    "precision = metrics.precision_score(y_test, predictions, average='macro')\n",
    "recall = metrics.recall_score(y_test, predictions, average='macro')\n",
    "f1 = metrics.f1_score(y_test, predictions, average='macro')\n",
    " \n",
    "print(\"Macro-average quality numbers\")\n",
    "print(\"Precision: {:.4f}, Recall: {:.4f}, F1-measure: {:.4f}\".format(precision, recall, f1))\n",
    "\n",
    "# print (metrics.classification_report(y_test, predictions))\n",
    "print(\"Time taken to run this cell :\", datetime.now() - start)"
   ]
  },
  {
   "cell_type": "markdown",
   "metadata": {},
   "source": [
    "#### Training on the body"
   ]
  },
  {
   "cell_type": "code",
   "execution_count": 14,
   "metadata": {},
   "outputs": [
    {
     "name": "stdout",
     "output_type": "stream",
     "text": [
      "Time taken : 0:09:28.714296\n"
     ]
    }
   ],
   "source": [
    "start = datetime.now()\n",
    "classifier = OneVsRestClassifier(SGDClassifier(loss='log', alpha=0.00001, penalty='l1', verbose=2), n_jobs=-1)\n",
    "classifier.fit(x_train_multilabel, y_train)\n",
    "print(\"Time taken :\", datetime.now() - start)"
   ]
  },
  {
   "cell_type": "code",
   "execution_count": 18,
   "metadata": {},
   "outputs": [],
   "source": [
    "predictions = classifier.predict(x_test_multilabel)"
   ]
  },
  {
   "cell_type": "code",
   "execution_count": 19,
   "metadata": {},
   "outputs": [
    {
     "name": "stdout",
     "output_type": "stream",
     "text": [
      "Accuracy : 0.17606\n",
      "Hamming loss  0.00317382\n",
      "Micro-average quality numbers\n",
      "Precision: 0.6796, Recall: 0.2297, F1-measure: 0.3433\n",
      "Macro-average quality numbers\n",
      "Precision: 0.4626, Recall: 0.1414, F1-measure: 0.2060\n",
      "Time taken to run this cell : 0:00:00.158702\n"
     ]
    },
    {
     "name": "stderr",
     "output_type": "stream",
     "text": [
      "/home/paperspace/anaconda3/lib/python3.6/site-packages/sklearn/metrics/classification.py:1143: UndefinedMetricWarning: Precision is ill-defined and being set to 0.0 in labels with no predicted samples.\n",
      "  'precision', 'predicted', average, warn_for)\n",
      "/home/paperspace/anaconda3/lib/python3.6/site-packages/sklearn/metrics/classification.py:1143: UndefinedMetricWarning: F-score is ill-defined and being set to 0.0 in labels with no predicted samples.\n",
      "  'precision', 'predicted', average, warn_for)\n"
     ]
    }
   ],
   "source": [
    "start = datetime.now()\n",
    "print(\"Accuracy :\",metrics.accuracy_score(y_test, predictions))\n",
    "print(\"Hamming loss \",metrics.hamming_loss(y_test,predictions))\n",
    "\n",
    "\n",
    "precision = metrics.precision_score(y_test, predictions, average='micro')\n",
    "recall = metrics.recall_score(y_test, predictions, average='micro')\n",
    "f1 = metrics.f1_score(y_test, predictions, average='micro')\n",
    " \n",
    "print(\"Micro-average quality numbers\")\n",
    "print(\"Precision: {:.4f}, Recall: {:.4f}, F1-measure: {:.4f}\".format(precision, recall, f1))\n",
    "\n",
    "precision = metrics.precision_score(y_test, predictions, average='macro')\n",
    "recall = metrics.recall_score(y_test, predictions, average='macro')\n",
    "f1 = metrics.f1_score(y_test, predictions, average='macro')\n",
    " \n",
    "print(\"Macro-average quality numbers\")\n",
    "print(\"Precision: {:.4f}, Recall: {:.4f}, F1-measure: {:.4f}\".format(precision, recall, f1))\n",
    "\n",
    "# print (metrics.classification_report(y_test, predictions))\n",
    "print(\"Time taken to run this cell :\", datetime.now() - start)"
   ]
  },
  {
   "cell_type": "markdown",
   "metadata": {},
   "source": [
    "It seems that 3x title is more valiable in terms of F1 score. Let's now combine the 3x title and body and see if the number improves or not."
   ]
  },
  {
   "cell_type": "code",
   "execution_count": 2,
   "metadata": {},
   "outputs": [],
   "source": [
    "with sqlite3.connect('dataset/sample.db') as conn:\n",
    "    sample = pd.read_sql_query('SELECT * FROM sample', conn)"
   ]
  },
  {
   "cell_type": "code",
   "execution_count": 3,
   "metadata": {},
   "outputs": [
    {
     "data": {
      "text/plain": [
       "(500000, 12)"
      ]
     },
     "execution_count": 3,
     "metadata": {},
     "output_type": "execute_result"
    }
   ],
   "source": [
    "sample.shape"
   ]
  },
  {
   "cell_type": "code",
   "execution_count": 4,
   "metadata": {},
   "outputs": [
    {
     "data": {
      "text/html": [
       "<div>\n",
       "<style scoped>\n",
       "    .dataframe tbody tr th:only-of-type {\n",
       "        vertical-align: middle;\n",
       "    }\n",
       "\n",
       "    .dataframe tbody tr th {\n",
       "        vertical-align: top;\n",
       "    }\n",
       "\n",
       "    .dataframe thead th {\n",
       "        text-align: right;\n",
       "    }\n",
       "</style>\n",
       "<table border=\"1\" class=\"dataframe\">\n",
       "  <thead>\n",
       "    <tr style=\"text-align: right;\">\n",
       "      <th></th>\n",
       "      <th>index</th>\n",
       "      <th>Id</th>\n",
       "      <th>Title</th>\n",
       "      <th>Tags</th>\n",
       "      <th>title_length</th>\n",
       "      <th>best_tags</th>\n",
       "      <th>body_length</th>\n",
       "      <th>code</th>\n",
       "      <th>body</th>\n",
       "      <th>possbleCpp</th>\n",
       "      <th>possbleJava</th>\n",
       "      <th>possbleC#</th>\n",
       "    </tr>\n",
       "  </thead>\n",
       "  <tbody>\n",
       "    <tr>\n",
       "      <th>0</th>\n",
       "      <td>1937810</td>\n",
       "      <td>2205304</td>\n",
       "      <td>add extra space bottom gridview listview add e...</td>\n",
       "      <td>android android-gridview</td>\n",
       "      <td>51</td>\n",
       "      <td>android</td>\n",
       "      <td>309</td>\n",
       "      <td>paddingBottom\\n</td>\n",
       "      <td>is it possibl to add extra space  kinda like a...</td>\n",
       "      <td>0</td>\n",
       "      <td>0</td>\n",
       "      <td>0</td>\n",
       "    </tr>\n",
       "    <tr>\n",
       "      <th>1</th>\n",
       "      <td>2485602</td>\n",
       "      <td>2959225</td>\n",
       "      <td>iphon check valu cellid lac iphon check valu c...</td>\n",
       "      <td>iphone cellid</td>\n",
       "      <td>36</td>\n",
       "      <td>other</td>\n",
       "      <td>142</td>\n",
       "      <td></td>\n",
       "      <td>i can get radio inform cellid  lac  mnc  mcc o...</td>\n",
       "      <td>0</td>\n",
       "      <td>0</td>\n",
       "      <td>0</td>\n",
       "    </tr>\n",
       "    <tr>\n",
       "      <th>2</th>\n",
       "      <td>963519</td>\n",
       "      <td>1022370</td>\n",
       "      <td>use compress improv edit distanc comput use co...</td>\n",
       "      <td>reference-request ho.history-overview string-m...</td>\n",
       "      <td>54</td>\n",
       "      <td>other</td>\n",
       "      <td>504</td>\n",
       "      <td></td>\n",
       "      <td>i am do a seminar on a paper titl  a  rel  nof...</td>\n",
       "      <td>0</td>\n",
       "      <td>0</td>\n",
       "      <td>0</td>\n",
       "    </tr>\n",
       "    <tr>\n",
       "      <th>3</th>\n",
       "      <td>1867571</td>\n",
       "      <td>2113629</td>\n",
       "      <td>yahoo gmail send mail oauth use java yahoo gma...</td>\n",
       "      <td>java oauth smtp javamail</td>\n",
       "      <td>42</td>\n",
       "      <td>java</td>\n",
       "      <td>972</td>\n",
       "      <td>Properties props = new Properties();\\nprops.pu...</td>\n",
       "      <td>by use xoauth i am get imapstor and smtptransp...</td>\n",
       "      <td>0</td>\n",
       "      <td>0</td>\n",
       "      <td>0</td>\n",
       "    </tr>\n",
       "    <tr>\n",
       "      <th>4</th>\n",
       "      <td>1300853</td>\n",
       "      <td>1412391</td>\n",
       "      <td>load page use jqueri load page use jqueri load...</td>\n",
       "      <td>jquery jquery-ajax</td>\n",
       "      <td>24</td>\n",
       "      <td>js</td>\n",
       "      <td>647</td>\n",
       "      <td>var html = $.ajax({\\n            url: ...</td>\n",
       "      <td>i want to know about the error happen dure ins...</td>\n",
       "      <td>0</td>\n",
       "      <td>0</td>\n",
       "      <td>0</td>\n",
       "    </tr>\n",
       "  </tbody>\n",
       "</table>\n",
       "</div>"
      ],
      "text/plain": [
       "     index       Id                                              Title  \\\n",
       "0  1937810  2205304  add extra space bottom gridview listview add e...   \n",
       "1  2485602  2959225  iphon check valu cellid lac iphon check valu c...   \n",
       "2   963519  1022370  use compress improv edit distanc comput use co...   \n",
       "3  1867571  2113629  yahoo gmail send mail oauth use java yahoo gma...   \n",
       "4  1300853  1412391  load page use jqueri load page use jqueri load...   \n",
       "\n",
       "                                                Tags  title_length best_tags  \\\n",
       "0                           android android-gridview            51   android   \n",
       "1                                      iphone cellid            36     other   \n",
       "2  reference-request ho.history-overview string-m...            54     other   \n",
       "3                           java oauth smtp javamail            42      java   \n",
       "4                                 jquery jquery-ajax            24        js   \n",
       "\n",
       "   body_length                                               code  \\\n",
       "0          309                                    paddingBottom\\n   \n",
       "1          142                                                      \n",
       "2          504                                                      \n",
       "3          972  Properties props = new Properties();\\nprops.pu...   \n",
       "4          647          var html = $.ajax({\\n            url: ...   \n",
       "\n",
       "                                                body  possbleCpp  possbleJava  \\\n",
       "0  is it possibl to add extra space  kinda like a...           0            0   \n",
       "1  i can get radio inform cellid  lac  mnc  mcc o...           0            0   \n",
       "2  i am do a seminar on a paper titl  a  rel  nof...           0            0   \n",
       "3  by use xoauth i am get imapstor and smtptransp...           0            0   \n",
       "4  i want to know about the error happen dure ins...           0            0   \n",
       "\n",
       "   possbleC#  \n",
       "0          0  \n",
       "1          0  \n",
       "2          0  \n",
       "3          0  \n",
       "4          0  "
      ]
     },
     "execution_count": 4,
     "metadata": {},
     "output_type": "execute_result"
    }
   ],
   "source": [
    "sample.head()"
   ]
  },
  {
   "cell_type": "code",
   "execution_count": 6,
   "metadata": {},
   "outputs": [
    {
     "data": {
      "text/plain": [
       "'add extra space bottom gridview listview add extra space bottom gridview listview add extra space bottom gridview listview'"
      ]
     },
     "execution_count": 6,
     "metadata": {},
     "output_type": "execute_result"
    }
   ],
   "source": [
    "sample.Title[0] # 3x title"
   ]
  },
  {
   "cell_type": "code",
   "execution_count": 7,
   "metadata": {},
   "outputs": [
    {
     "data": {
      "text/plain": [
       "'is it possibl to add extra space  kinda like an empti row  to the bottom of a gridview  i would like it so when you scroll down to the bottom of a gridview  there will be an extra dp of empti space  i tri set  code  paddingbottom    to dp  but it did nt seem to chang anyth '"
      ]
     },
     "execution_count": 7,
     "metadata": {},
     "output_type": "execute_result"
    }
   ],
   "source": [
    "sample.body[0] # body"
   ]
  },
  {
   "cell_type": "code",
   "execution_count": 8,
   "metadata": {},
   "outputs": [],
   "source": [
    "sample['question'] = sample.Title + ' ' + sample.body"
   ]
  },
  {
   "cell_type": "code",
   "execution_count": 10,
   "metadata": {},
   "outputs": [
    {
     "data": {
      "text/plain": [
       "'add extra space bottom gridview listview add extra space bottom gridview listview add extra space bottom gridview listview is it possibl to add extra space  kinda like an empti row  to the bottom of a gridview  i would like it so when you scroll down to the bottom of a gridview  there will be an extra dp of empti space  i tri set  code  paddingbottom    to dp  but it did nt seem to chang anyth '"
      ]
     },
     "execution_count": 10,
     "metadata": {},
     "output_type": "execute_result"
    }
   ],
   "source": [
    "sample.question[0]"
   ]
  },
  {
   "cell_type": "code",
   "execution_count": 12,
   "metadata": {},
   "outputs": [],
   "source": [
    "vectorizer = TfidfVectorizer(min_df=0.00009, max_features=200000, smooth_idf=True, norm=\"l2\", \\\n",
    "                             tokenizer = lambda x: x.split(), sublinear_tf=False, ngram_range=(1,4))"
   ]
  },
  {
   "cell_type": "code",
   "execution_count": 15,
   "metadata": {},
   "outputs": [
    {
     "name": "stdout",
     "output_type": "stream",
     "text": [
      "Time taken : 0:21:30.963244\n"
     ]
    }
   ],
   "source": [
    "start = datetime.now()\n",
    "sampleX_questions = vectorizer.fit_transform(sample.question)\n",
    "print(\"Time taken :\", datetime.now() - start)"
   ]
  },
  {
   "cell_type": "code",
   "execution_count": 17,
   "metadata": {},
   "outputs": [],
   "source": [
    "save_npz('sampleX_questions.npz', sampleX_questions)"
   ]
  },
  {
   "cell_type": "markdown",
   "metadata": {},
   "source": [
    "#### Training on both body + title x 3"
   ]
  },
  {
   "cell_type": "code",
   "execution_count": 4,
   "metadata": {},
   "outputs": [],
   "source": [
    "sampleY = load_npz('sampleY.npz')\n",
    "sampleX_questions = load_npz('sampleX_questions.npz')"
   ]
  },
  {
   "cell_type": "code",
   "execution_count": 5,
   "metadata": {},
   "outputs": [],
   "source": [
    "x_train_multilabel = sampleX_questions[0:400000, :]\n",
    "y_train = sampleY[0:400000, :]\n",
    "x_test_multilabel = sampleX_questions[400000:500000, :]\n",
    "y_test = sampleY[400000:500000, :]"
   ]
  },
  {
   "cell_type": "code",
   "execution_count": 10,
   "metadata": {},
   "outputs": [
    {
     "name": "stdout",
     "output_type": "stream",
     "text": [
      "Time taken : 0:12:41.595459\n"
     ]
    }
   ],
   "source": [
    "start = datetime.now()\n",
    "classifier = OneVsRestClassifier(SGDClassifier(loss='log', alpha=0.00001, penalty='l1', verbose=2), n_jobs=-1)\n",
    "classifier.fit(x_train_multilabel, y_train)\n",
    "print(\"Time taken :\", datetime.now() - start)"
   ]
  },
  {
   "cell_type": "code",
   "execution_count": 11,
   "metadata": {},
   "outputs": [],
   "source": [
    "predictions = classifier.predict(x_test_multilabel)"
   ]
  },
  {
   "cell_type": "code",
   "execution_count": 12,
   "metadata": {},
   "outputs": [
    {
     "name": "stdout",
     "output_type": "stream",
     "text": [
      "Accuracy : 0.237\n",
      "Hamming loss  0.0027848\n",
      "Micro-average quality numbers\n",
      "Precision: 0.7479, Recall: 0.3456, F1-measure: 0.4728\n",
      "Macro-average quality numbers\n",
      "Precision: 0.5581, Recall: 0.2528, F1-measure: 0.3318\n",
      "Time taken to run this cell : 0:00:00.161546\n"
     ]
    },
    {
     "name": "stderr",
     "output_type": "stream",
     "text": [
      "/home/paperspace/anaconda3/lib/python3.6/site-packages/sklearn/metrics/classification.py:1143: UndefinedMetricWarning: Precision is ill-defined and being set to 0.0 in labels with no predicted samples.\n",
      "  'precision', 'predicted', average, warn_for)\n",
      "/home/paperspace/anaconda3/lib/python3.6/site-packages/sklearn/metrics/classification.py:1143: UndefinedMetricWarning: F-score is ill-defined and being set to 0.0 in labels with no predicted samples.\n",
      "  'precision', 'predicted', average, warn_for)\n"
     ]
    }
   ],
   "source": [
    "start = datetime.now()\n",
    "print(\"Accuracy :\",metrics.accuracy_score(y_test, predictions))\n",
    "print(\"Hamming loss \",metrics.hamming_loss(y_test,predictions))\n",
    "\n",
    "\n",
    "precision = metrics.precision_score(y_test, predictions, average='micro')\n",
    "recall = metrics.recall_score(y_test, predictions, average='micro')\n",
    "f1 = metrics.f1_score(y_test, predictions, average='micro')\n",
    " \n",
    "print(\"Micro-average quality numbers\")\n",
    "print(\"Precision: {:.4f}, Recall: {:.4f}, F1-measure: {:.4f}\".format(precision, recall, f1))\n",
    "\n",
    "precision = metrics.precision_score(y_test, predictions, average='macro')\n",
    "recall = metrics.recall_score(y_test, predictions, average='macro')\n",
    "f1 = metrics.f1_score(y_test, predictions, average='macro')\n",
    " \n",
    "print(\"Macro-average quality numbers\")\n",
    "print(\"Precision: {:.4f}, Recall: {:.4f}, F1-measure: {:.4f}\".format(precision, recall, f1))\n",
    "\n",
    "\n",
    "# print (metrics.classification_report(y_test, predictions))\n",
    "print(\"Time taken to run this cell :\", datetime.now() - start)"
   ]
  },
  {
   "cell_type": "markdown",
   "metadata": {},
   "source": [
    "#### Hyperparam tuning with Log loss (Logistic Regression)"
   ]
  },
  {
   "cell_type": "code",
   "execution_count": 102,
   "metadata": {},
   "outputs": [],
   "source": [
    "f1_micro_scores = []\n",
    "f1_macro_scores = []\n",
    "accuracy_scores = []\n",
    "precision_micro_scores = []\n",
    "recall_micro_scores = []\n",
    "precison_macro_scores = []\n",
    "recall_macro_scores = []\n",
    "hamming_loss = []"
   ]
  },
  {
   "cell_type": "code",
   "execution_count": 45,
   "metadata": {},
   "outputs": [],
   "source": [
    "from sklearn import metrics"
   ]
  },
  {
   "cell_type": "code",
   "execution_count": null,
   "metadata": {
    "scrolled": true
   },
   "outputs": [],
   "source": [
    "for alpha in [10, 1, 0.1, 0.001, 0.0001, 0.00001, 0.000001, 0.0000001, 0.00000001]:\n",
    "    print(f'Started fro the alpha {alpha}')\n",
    "    classifier = OneVsRestClassifier(SGDClassifier(loss='log', verbose=2, alpha=alpha), n_jobs=-1)\n",
    "    classifier.fit(x_train_multilabel, y_train)\n",
    "    print(f'Started prediting for {alpha}')\n",
    "    predictions = classifier.predict(x_test_multilabel)\n",
    "    accuracy_scores.append(metrics.accuracy_score(y_test, predictions))\n",
    "    hamming_loss.append(metrics.hamming_loss(y_test,predictions))\n",
    "    precision_micro_scores.append(metrics.precision_score(y_test, predictions, average='micro'))\n",
    "    recall_micro_scores.append(metrics.recall_score(y_test, predictions, average='micro'))\n",
    "    f1_micro_scores.append(metrics.f1_score(y_test, predictions, average='micro'))\n",
    "    f1_macro_scores.append(metrics.precision_score(y_test, predictions, average='macro'))\n",
    "    recall_macro_scores.append(metrics.recall_score(y_test, predictions, average='macro'))\n",
    "    f1_macro_scores.append(metrics.f1_score(y_test, predictions, average='macro'))\n",
    "    print(f'Done for the {alpha}')"
   ]
  },
  {
   "cell_type": "code",
   "execution_count": null,
   "metadata": {},
   "outputs": [],
   "source": []
  },
  {
   "cell_type": "code",
   "execution_count": 71,
   "metadata": {},
   "outputs": [],
   "source": [
    "scores = pd.DataFrame([\n",
    "    [10, 1, 0.1, 0.001, 0.0001, 0.00001, 0.000001, 0.0000001, 0.00000001],\n",
    "    f1_micro_scores,\n",
    "    hamming_loss,\n",
    "    recall_micro_scores,\n",
    "    precision_micro_scores\n",
    "]).T\n",
    "scores.columns = ['alphas', 'f1_micro', 'hamming', 'recall_micro', 'precision_micro']"
   ]
  },
  {
   "cell_type": "code",
   "execution_count": 84,
   "metadata": {},
   "outputs": [],
   "source": [
    "scores.sort_values('alphas', ascending=True, inplace=True)"
   ]
  },
  {
   "cell_type": "code",
   "execution_count": 95,
   "metadata": {},
   "outputs": [
    {
     "data": {
      "image/png": "[encoded data removed]",
      "text/plain": [
       "<Figure size 720x360 with 1 Axes>"
      ]
     },
     "metadata": {
      "image/png": {
       "height": 365,
       "width": 687
      }
     },
     "output_type": "display_data"
    }
   ],
   "source": [
    "sns.pointplot(x='alphas', y='f1_micro', data=scores, lw=1, markers='');\n",
    "plt.title('F1 score micro vs alphas');"
   ]
  },
  {
   "cell_type": "code",
   "execution_count": 103,
   "metadata": {},
   "outputs": [
    {
     "name": "stdout",
     "output_type": "stream",
     "text": [
      "Started fro the alpha 1e-07\n",
      "Started prediting for 1e-07\n",
      "Done for the 1e-07\n"
     ]
    }
   ],
   "source": [
    "for alpha in [0.000005, 0.0000001, 0.0000005]:\n",
    "    print(f'Started fro the alpha {alpha}')\n",
    "    classifier = OneVsRestClassifier(SGDClassifier(loss='log', verbose=2, alpha=alpha), n_jobs=-1)\n",
    "    classifier.fit(x_train_multilabel, y_train)\n",
    "    print(f'Started prediting for {alpha}')\n",
    "    predictions = classifier.predict(x_test_multilabel)\n",
    "    accuracy_scores.append(metrics.accuracy_score(y_test, predictions))\n",
    "    hamming_loss.append(metrics.hamming_loss(y_test,predictions))\n",
    "    precision_micro_scores.append(metrics.precision_score(y_test, predictions, average='micro'))\n",
    "    recall_micro_scores.append(metrics.recall_score(y_test, predictions, average='micro'))\n",
    "    f1_micro_scores.append(metrics.f1_score(y_test, predictions, average='micro'))\n",
    "    f1_macro_scores.append(metrics.precision_score(y_test, predictions, average='macro'))\n",
    "    recall_macro_scores.append(metrics.recall_score(y_test, predictions, average='macro'))\n",
    "    f1_macro_scores.append(metrics.f1_score(y_test, predictions, average='macro'))\n",
    "    print(f'Done for the {alpha}')"
   ]
  },
  {
   "cell_type": "code",
   "execution_count": 117,
   "metadata": {},
   "outputs": [],
   "source": [
    "f1_micro_scores = []\n",
    "f1_macro_scores = []\n",
    "accuracy_scores = []\n",
    "precision_micro_scores = []\n",
    "recall_micro_scores = []\n",
    "precison_macro_scores = []\n",
    "recall_macro_scores = []\n",
    "hamming_loss = []"
   ]
  },
  {
   "cell_type": "code",
   "execution_count": null,
   "metadata": {},
   "outputs": [],
   "source": [
    "for p in ['l1', 'l2']:\n",
    "    print(f'Started for the penalty {p}')\n",
    "    classifier = OneVsRestClassifier(SGDClassifier(loss='log', verbose=2, \n",
    "                                                   alpha=0.0000005, penalty=p), n_jobs=-1)\n",
    "    classifier.fit(x_train_multilabel, y_train)\n",
    "    print(f'Started prediting for {p}')\n",
    "    predictions = classifier.predict(x_test_multilabel)\n",
    "    accuracy_scores.append(metrics.accuracy_score(y_test, predictions))\n",
    "    hamming_loss.append(metrics.hamming_loss(y_test,predictions))\n",
    "    precision_micro_scores.append(metrics.precision_score(y_test, predictions, average='micro'))\n",
    "    recall_micro_scores.append(metrics.recall_score(y_test, predictions, average='micro'))\n",
    "    f1_micro_scores.append(metrics.f1_score(y_test, predictions, average='micro'))\n",
    "    f1_macro_scores.append(metrics.precision_score(y_test, predictions, average='macro'))\n",
    "    recall_macro_scores.append(metrics.recall_score(y_test, predictions, average='macro'))\n",
    "    f1_macro_scores.append(metrics.f1_score(y_test, predictions, average='macro'))\n",
    "    print(f'Done for the {p}')"
   ]
  },
  {
   "cell_type": "code",
   "execution_count": 119,
   "metadata": {},
   "outputs": [
    {
     "data": {
      "text/plain": [
       "[0.5299875080648482, 0.5130565261040564]"
      ]
     },
     "execution_count": 119,
     "metadata": {},
     "output_type": "execute_result"
    }
   ],
   "source": [
    "f1_micro_scores"
   ]
  },
  {
   "cell_type": "code",
   "execution_count": 127,
   "metadata": {},
   "outputs": [],
   "source": [
    "f1_micro_scores = []\n",
    "f1_macro_scores = []\n",
    "accuracy_scores = []\n",
    "precision_micro_scoresdd = []\n",
    "recall_micro_scores = []\n",
    "precison_macro_scores = []\n",
    "recall_macro_scores = []\n",
    "hamming_loss = []"
   ]
  },
  {
   "cell_type": "code",
   "execution_count": null,
   "metadata": {},
   "outputs": [],
   "source": [
    "for lr in ['optimal', 'adaptive']:\n",
    "    print(f'Started for the learning rate {lr}')\n",
    "    classifier = OneVsRestClassifier(SGDClassifier(loss='log', verbose=2, \n",
    "                                                   alpha=0.0000005, penalty='l1',\n",
    "                                                  learning_rate=lr, eta0=0.1), n_jobs=-1)\n",
    "    classifier.fit(x_train_multilabel, y_train)\n",
    "    print(f'Started prediting for {lr}')\n",
    "    predictions = classifier.predict(x_test_multilabel)\n",
    "    accuracy_scores.append(metrics.accuracy_score(y_test, predictions))\n",
    "    hamming_loss.append(metrics.hamming_loss(y_test,predictions))\n",
    "    precision_micro_scores.append(metrics.precision_score(y_test, predictions, average='micro'))\n",
    "    recall_micro_scores.append(metrics.recall_score(y_test, predictions, average='micro'))\n",
    "    f1_micro_scores.append(metrics.f1_score(y_test, predictions, average='micro'))\n",
    "    f1_macro_scores.append(metrics.precision_score(y_test, predictions, average='macro'))\n",
    "    recall_macro_scores.append(metrics.recall_score(y_test, predictions, average='macro'))\n",
    "    f1_macro_scores.append(metrics.f1_score(y_test, predictions, average='macro'))\n",
    "    print(f'Done for the {lr}')"
   ]
  },
  {
   "cell_type": "code",
   "execution_count": 129,
   "metadata": {},
   "outputs": [
    {
     "data": {
      "text/plain": [
       "[0.5316527549335075, 0.47777045941050555]"
      ]
     },
     "execution_count": 129,
     "metadata": {},
     "output_type": "execute_result"
    }
   ],
   "source": [
    "f1_micro_scores"
   ]
  },
  {
   "cell_type": "code",
   "execution_count": 134,
   "metadata": {},
   "outputs": [
    {
     "name": "stdout",
     "output_type": "stream",
     "text": [
      "Time taken : 0:12:42.817197\n"
     ]
    }
   ],
   "source": [
    "start = datetime.now()\n",
    "classifier = OneVsRestClassifier(SGDClassifier(loss='log', verbose=2, \n",
    "                                                   alpha=0.0000005, penalty='l1',\n",
    "                                                  learning_rate='optimal', eta0=0.1), n_jobs=-1)\n",
    "classifier.fit(x_train_multilabel, y_train)\n",
    "print(\"Time taken :\", datetime.now() - start)"
   ]
  },
  {
   "cell_type": "code",
   "execution_count": 135,
   "metadata": {},
   "outputs": [],
   "source": [
    "predictions = classifier.predict(x_test_multilabel)"
   ]
  },
  {
   "cell_type": "code",
   "execution_count": 136,
   "metadata": {},
   "outputs": [
    {
     "name": "stdout",
     "output_type": "stream",
     "text": [
      "Accuracy : 0.25445\n",
      "Hamming loss  0.00273776\n",
      "Micro-average quality numbers\n",
      "Precision: 0.6966, Recall: 0.4289, F1-measure: 0.5309\n",
      "Macro-average quality numbers\n",
      "Precision: 0.5709, Recall: 0.3370, F1-measure: 0.4121\n",
      "Time taken to run this cell : 0:00:00.179849\n"
     ]
    }
   ],
   "source": [
    "start = datetime.now()\n",
    "print(\"Accuracy :\",metrics.accuracy_score(y_test, predictions))\n",
    "print(\"Hamming loss \",metrics.hamming_loss(y_test,predictions))\n",
    "\n",
    "\n",
    "precision = metrics.precision_score(y_test, predictions, average='micro')\n",
    "recall = metrics.recall_score(y_test, predictions, average='micro')\n",
    "f1 = metrics.f1_score(y_test, predictions, average='micro')\n",
    " \n",
    "print(\"Micro-average quality numbers\")\n",
    "print(\"Precision: {:.4f}, Recall: {:.4f}, F1-measure: {:.4f}\".format(precision, recall, f1))\n",
    "\n",
    "precision = metrics.precision_score(y_test, predictions, average='macro')\n",
    "recall = metrics.recall_score(y_test, predictions, average='macro')\n",
    "f1 = metrics.f1_score(y_test, predictions, average='macro')\n",
    " \n",
    "print(\"Macro-average quality numbers\")\n",
    "print(\"Precision: {:.4f}, Recall: {:.4f}, F1-measure: {:.4f}\".format(precision, recall, f1))\n",
    "\n",
    "\n",
    "# print (metrics.classification_report(y_test, predictions))\n",
    "print(\"Time taken to run this cell :\", datetime.now() - start)"
   ]
  },
  {
   "cell_type": "markdown",
   "metadata": {},
   "source": [
    "#### Training with Hinge loss (LinearSVC) with optimized parameters"
   ]
  },
  {
   "cell_type": "code",
   "execution_count": 137,
   "metadata": {},
   "outputs": [
    {
     "name": "stdout",
     "output_type": "stream",
     "text": [
      "Time taken : 0:10:20.819282\n"
     ]
    }
   ],
   "source": [
    "start = datetime.now()\n",
    "classifier = OneVsRestClassifier(SGDClassifier(loss='hinge', verbose=2, \n",
    "                                                   alpha=0.0000005, penalty='l1',\n",
    "                                                  learning_rate='optimal', eta0=0.1), n_jobs=-1)\n",
    "classifier.fit(x_train_multilabel, y_train)\n",
    "print(\"Time taken :\", datetime.now() - start)"
   ]
  },
  {
   "cell_type": "code",
   "execution_count": 138,
   "metadata": {},
   "outputs": [],
   "source": [
    "predictions = classifier.predict(x_test_multilabel)"
   ]
  },
  {
   "cell_type": "code",
   "execution_count": 139,
   "metadata": {},
   "outputs": [
    {
     "name": "stdout",
     "output_type": "stream",
     "text": [
      "Accuracy : 0.24594\n",
      "Hamming loss  0.00283904\n",
      "Micro-average quality numbers\n",
      "Precision: 0.6585, Recall: 0.4448, F1-measure: 0.5309\n",
      "Macro-average quality numbers\n",
      "Precision: 0.5586, Recall: 0.3486, F1-measure: 0.4127\n",
      "Time taken to run this cell : 0:00:00.181645\n"
     ]
    },
    {
     "name": "stderr",
     "output_type": "stream",
     "text": [
      "/home/paperspace/anaconda3/lib/python3.6/site-packages/sklearn/metrics/classification.py:1143: UndefinedMetricWarning: Precision is ill-defined and being set to 0.0 in labels with no predicted samples.\n",
      "  'precision', 'predicted', average, warn_for)\n",
      "/home/paperspace/anaconda3/lib/python3.6/site-packages/sklearn/metrics/classification.py:1143: UndefinedMetricWarning: F-score is ill-defined and being set to 0.0 in labels with no predicted samples.\n",
      "  'precision', 'predicted', average, warn_for)\n"
     ]
    }
   ],
   "source": [
    "start = datetime.now()\n",
    "print(\"Accuracy :\",metrics.accuracy_score(y_test, predictions))\n",
    "print(\"Hamming loss \",metrics.hamming_loss(y_test,predictions))\n",
    "\n",
    "\n",
    "precision = metrics.precision_score(y_test, predictions, average='micro')\n",
    "recall = metrics.recall_score(y_test, predictions, average='micro')\n",
    "f1 = metrics.f1_score(y_test, predictions, average='micro')\n",
    " \n",
    "print(\"Micro-average quality numbers\")\n",
    "print(\"Precision: {:.4f}, Recall: {:.4f}, F1-measure: {:.4f}\".format(precision, recall, f1))\n",
    "\n",
    "precision = metrics.precision_score(y_test, predictions, average='macro')\n",
    "recall = metrics.recall_score(y_test, predictions, average='macro')\n",
    "f1 = metrics.f1_score(y_test, predictions, average='macro')\n",
    " \n",
    "print(\"Macro-average quality numbers\")\n",
    "print(\"Precision: {:.4f}, Recall: {:.4f}, F1-measure: {:.4f}\".format(precision, recall, f1))\n",
    "\n",
    "\n",
    "# print (metrics.classification_report(y_test, predictions))\n",
    "print(\"Time taken to run this cell :\", datetime.now() - start)"
   ]
  },
  {
   "cell_type": "code",
   "execution_count": null,
   "metadata": {},
   "outputs": [],
   "source": []
  }
 ],
 "metadata": {
  "kernelspec": {
   "display_name": "Python 3",
   "language": "python",
   "name": "python3"
  },
  "language_info": {
   "codemirror_mode": {
    "name": "ipython",
    "version": 3
   },
   "file_extension": ".py",
   "mimetype": "text/x-python",
   "name": "python",
   "nbconvert_exporter": "python",
   "pygments_lexer": "ipython3",
   "version": "3.6.6"
  }
 },
 "nbformat": 4,
 "nbformat_minor": 2
}
